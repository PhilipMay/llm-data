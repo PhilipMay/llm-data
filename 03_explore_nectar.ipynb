{
 "cells": [
  {
   "cell_type": "code",
   "execution_count": 1,
   "metadata": {},
   "outputs": [],
   "source": [
    "from datasets import load_dataset\n",
    "from mltb2.transformers import TransformersTokenCounter\n",
    "from mltb2.text import clean_all_invisible_chars_and_whitespaces\n",
    "import pandas as pd\n",
    "\n",
    "from tqdm import tqdm\n",
    "tqdm.pandas()"
   ]
  },
  {
   "cell_type": "code",
   "execution_count": 2,
   "metadata": {},
   "outputs": [
    {
     "data": {
      "text/html": [
       "<div>\n",
       "<style scoped>\n",
       "    .dataframe tbody tr th:only-of-type {\n",
       "        vertical-align: middle;\n",
       "    }\n",
       "\n",
       "    .dataframe tbody tr th {\n",
       "        vertical-align: top;\n",
       "    }\n",
       "\n",
       "    .dataframe thead th {\n",
       "        text-align: right;\n",
       "    }\n",
       "</style>\n",
       "<table border=\"1\" class=\"dataframe\">\n",
       "  <thead>\n",
       "    <tr style=\"text-align: right;\">\n",
       "      <th></th>\n",
       "      <th>prompt</th>\n",
       "      <th>answers</th>\n",
       "      <th>turns</th>\n",
       "      <th>num_responses</th>\n",
       "      <th>source</th>\n",
       "      <th>good_natured</th>\n",
       "    </tr>\n",
       "  </thead>\n",
       "  <tbody>\n",
       "    <tr>\n",
       "      <th>0</th>\n",
       "      <td>\\n\\nHuman: 0.002 = 1000 \\n1 = x?\\n\\nAssistant:</td>\n",
       "      <td>[{'answer': 'To find the value of x, we can se...</td>\n",
       "      <td>1</td>\n",
       "      <td>7</td>\n",
       "      <td>[sharegpt]</td>\n",
       "      <td>True</td>\n",
       "    </tr>\n",
       "    <tr>\n",
       "      <th>1</th>\n",
       "      <td>\\n\\nHuman: 0:00\\nwhat's going on guys it's NAM...</td>\n",
       "      <td>[{'answer': 'Hello! It seems like you're shari...</td>\n",
       "      <td>1</td>\n",
       "      <td>7</td>\n",
       "      <td>[lmsys-chat-1m]</td>\n",
       "      <td>True</td>\n",
       "    </tr>\n",
       "    <tr>\n",
       "      <th>2</th>\n",
       "      <td>\\n\\nHuman: 01011001 01001111 01010101 00100000...</td>\n",
       "      <td>[{'answer': 'The binary code you provided tran...</td>\n",
       "      <td>1</td>\n",
       "      <td>7</td>\n",
       "      <td>[anthropic-hh]</td>\n",
       "      <td>True</td>\n",
       "    </tr>\n",
       "    <tr>\n",
       "      <th>3</th>\n",
       "      <td>\\n\\nHuman: \"012345\", \"001122\", \"ee44aa\", \"abcd...</td>\n",
       "      <td>[{'answer': 'Sure, I can help you write a func...</td>\n",
       "      <td>1</td>\n",
       "      <td>7</td>\n",
       "      <td>[lmsys-chat-1m]</td>\n",
       "      <td>True</td>\n",
       "    </tr>\n",
       "    <tr>\n",
       "      <th>4</th>\n",
       "      <td>\\n\\nHuman: #01 You are an assistant that helps...</td>\n",
       "      <td>[{'answer': '{\n",
       "    \"thoughts\": \"Based on the c...</td>\n",
       "      <td>1</td>\n",
       "      <td>7</td>\n",
       "      <td>[lmsys-chat-1m]</td>\n",
       "      <td>True</td>\n",
       "    </tr>\n",
       "    <tr>\n",
       "      <th>...</th>\n",
       "      <td>...</td>\n",
       "      <td>...</td>\n",
       "      <td>...</td>\n",
       "      <td>...</td>\n",
       "      <td>...</td>\n",
       "      <td>...</td>\n",
       "    </tr>\n",
       "    <tr>\n",
       "      <th>182949</th>\n",
       "      <td>\\n\\nHuman: Zimkus, B. M., L. P. Lawson, M. F. ...</td>\n",
       "      <td>[{'answer': 'The Mascarene ridged frogs, also ...</td>\n",
       "      <td>1</td>\n",
       "      <td>7</td>\n",
       "      <td>[ultrachat]</td>\n",
       "      <td>True</td>\n",
       "    </tr>\n",
       "    <tr>\n",
       "      <th>182950</th>\n",
       "      <td>\\n\\nHuman: Zoe goes to the store to buy soda a...</td>\n",
       "      <td>[{'answer': 'First, we need to determine the t...</td>\n",
       "      <td>1</td>\n",
       "      <td>7</td>\n",
       "      <td>[flan_v2_cot]</td>\n",
       "      <td>True</td>\n",
       "    </tr>\n",
       "    <tr>\n",
       "      <th>182951</th>\n",
       "      <td>\\n\\nHuman: Zomaria interruptolineana\\n\\nAssist...</td>\n",
       "      <td>[{'answer': 'Zomaria interruptolineana is a sp...</td>\n",
       "      <td>1</td>\n",
       "      <td>7</td>\n",
       "      <td>[lmsys-chat-1m]</td>\n",
       "      <td>True</td>\n",
       "    </tr>\n",
       "    <tr>\n",
       "      <th>182952</th>\n",
       "      <td>\\n\\nHuman: Zombies don't need something when t...</td>\n",
       "      <td>[{'answer': 'Interesting riddle! The answer co...</td>\n",
       "      <td>2</td>\n",
       "      <td>7</td>\n",
       "      <td>[anthropic-hh]</td>\n",
       "      <td>True</td>\n",
       "    </tr>\n",
       "    <tr>\n",
       "      <th>182953</th>\n",
       "      <td>\\n\\nHuman: Zombies don't need something when t...</td>\n",
       "      <td>[{'answer': 'The answer to the riddle is \"Life...</td>\n",
       "      <td>3</td>\n",
       "      <td>7</td>\n",
       "      <td>[anthropic-hh]</td>\n",
       "      <td>True</td>\n",
       "    </tr>\n",
       "  </tbody>\n",
       "</table>\n",
       "<p>182954 rows × 6 columns</p>\n",
       "</div>"
      ],
      "text/plain": [
       "                                                   prompt  \\\n",
       "0         \\n\\nHuman: 0.002 = 1000 \\n1 = x?\\n\\nAssistant:    \n",
       "1       \\n\\nHuman: 0:00\\nwhat's going on guys it's NAM...   \n",
       "2       \\n\\nHuman: 01011001 01001111 01010101 00100000...   \n",
       "3       \\n\\nHuman: \"012345\", \"001122\", \"ee44aa\", \"abcd...   \n",
       "4       \\n\\nHuman: #01 You are an assistant that helps...   \n",
       "...                                                   ...   \n",
       "182949  \\n\\nHuman: Zimkus, B. M., L. P. Lawson, M. F. ...   \n",
       "182950  \\n\\nHuman: Zoe goes to the store to buy soda a...   \n",
       "182951  \\n\\nHuman: Zomaria interruptolineana\\n\\nAssist...   \n",
       "182952  \\n\\nHuman: Zombies don't need something when t...   \n",
       "182953  \\n\\nHuman: Zombies don't need something when t...   \n",
       "\n",
       "                                                  answers  turns  \\\n",
       "0       [{'answer': 'To find the value of x, we can se...      1   \n",
       "1       [{'answer': 'Hello! It seems like you're shari...      1   \n",
       "2       [{'answer': 'The binary code you provided tran...      1   \n",
       "3       [{'answer': 'Sure, I can help you write a func...      1   \n",
       "4       [{'answer': '{\n",
       "    \"thoughts\": \"Based on the c...      1   \n",
       "...                                                   ...    ...   \n",
       "182949  [{'answer': 'The Mascarene ridged frogs, also ...      1   \n",
       "182950  [{'answer': 'First, we need to determine the t...      1   \n",
       "182951  [{'answer': 'Zomaria interruptolineana is a sp...      1   \n",
       "182952  [{'answer': 'Interesting riddle! The answer co...      2   \n",
       "182953  [{'answer': 'The answer to the riddle is \"Life...      3   \n",
       "\n",
       "        num_responses           source  good_natured  \n",
       "0                   7       [sharegpt]          True  \n",
       "1                   7  [lmsys-chat-1m]          True  \n",
       "2                   7   [anthropic-hh]          True  \n",
       "3                   7  [lmsys-chat-1m]          True  \n",
       "4                   7  [lmsys-chat-1m]          True  \n",
       "...               ...              ...           ...  \n",
       "182949              7      [ultrachat]          True  \n",
       "182950              7    [flan_v2_cot]          True  \n",
       "182951              7  [lmsys-chat-1m]          True  \n",
       "182952              7   [anthropic-hh]          True  \n",
       "182953              7   [anthropic-hh]          True  \n",
       "\n",
       "[182954 rows x 6 columns]"
      ]
     },
     "execution_count": 2,
     "metadata": {},
     "output_type": "execute_result"
    }
   ],
   "source": [
    "df = load_dataset(\"berkeley-nest/Nectar\", split=\"train\").to_pandas()\n",
    "df"
   ]
  },
  {
   "cell_type": "code",
   "execution_count": 3,
   "metadata": {},
   "outputs": [
    {
     "name": "stdout",
     "output_type": "stream",
     "text": [
      "\n",
      "\n",
      "Human: 0.002 = 1000 \n",
      "1 = x?\n",
      "\n",
      "Assistant: \n",
      "###############################\n",
      "1.0\n",
      "To find the value of x, we can set up a proportion using the given information:\n",
      "\n",
      "0.002/1000 = 1/x\n",
      "\n",
      "To solve for x, we can cross multiply:\n",
      "\n",
      "0.002 * x = 1000 * 1\n",
      "\n",
      "0.002x = 1000\n",
      "\n",
      "Dividing both sides by 0.002:\n",
      "\n",
      "x = 1000 / 0.002\n",
      "\n",
      "x = 500,000\n",
      "\n",
      "Therefore, 1 is equal to 500,000 in this proportion.\n",
      "---\n",
      "2.0\n",
      "To solve for x in this equation, you can use cross-multiplication. Here's how:\n",
      "\n",
      "0.002 / 1 = 1000 / x\n",
      "\n",
      "Cross-multiplication gives:\n",
      "\n",
      "0.002 * x = 1000\n",
      "\n",
      "To solve for x, divide both sides by 0.002:\n",
      "\n",
      "x = 1000 / 0.002\n",
      "\n",
      "So, x equals 500,000.\n",
      "---\n",
      "3.0\n",
      "This looks like a proportion. To solve for x, you can set up a proportion equation:\n",
      "\n",
      "0.002 / 1 = 1000 / x\n",
      "\n",
      "Now, cross-multiply:\n",
      "\n",
      "0.002 \\* x = 1 \\* 1000\n",
      "\n",
      "Then, solve for x:\n",
      "\n",
      "0.002x = 1000\n",
      "\n",
      "x = 1000 / 0.002\n",
      "\n",
      "x = 500,000\n",
      "---\n",
      "4.0\n",
      "If 0.002 equals 1000, then 1 would equal 500,000.\n",
      "---\n",
      "5.0\n",
      "I apologize, but the equation you provided is not correct.\n",
      "\n",
      "0.002 is equal to 0.002, not 1000.\n",
      "\n",
      "1 is equal to x, not a number.\n",
      "\n",
      "Can you please provide a correct equation or problem for me to solve?\n",
      "---\n",
      "6.0\n",
      "0.001 = x\n",
      "---\n",
      "7.0\n",
      "It seems like you are asking for the value of x in the equation x = 1/0.002. \n",
      "\n",
      "To solve this equation, you can divide both sides by 0.002 to get: \n",
      "\n",
      "x = 1/0.002 \n",
      "x = 500 \n",
      "\n",
      "Therefore, x = 500.\n",
      "---\n"
     ]
    }
   ],
   "source": [
    "print(df.iloc[0][\"prompt\"])\n",
    "print(\"###############################\")\n",
    "\n",
    "for answer in df.iloc[0][\"answers\"]:\n",
    "    print(answer[\"rank\"])\n",
    "    print(answer[\"answer\"])\n",
    "    print(\"---\")\n",
    "\n"
   ]
  },
  {
   "cell_type": "markdown",
   "metadata": {},
   "source": [
    "## Insight\n",
    "\n",
    "- ranking with 1.0 is the best score"
   ]
  },
  {
   "cell_type": "code",
   "execution_count": 4,
   "metadata": {},
   "outputs": [
    {
     "data": {
      "text/plain": [
       "source\n",
       "[anthropic-hh]               74062\n",
       "[lmsys-chat-1m]              43399\n",
       "[sharegpt]                   24948\n",
       "[flan_v2_niv2]               12019\n",
       "[evol_instruct]               9965\n",
       "                             ...  \n",
       "[lmsys-chat-1m, sharegpt]        1\n",
       "[lmsys-chat-1m, sharegpt]        1\n",
       "[truthful_qa, sharegpt]          1\n",
       "[truthful_qa, sharegpt]          1\n",
       "[lmsys-chat-1m, sharegpt]        1\n",
       "Name: count, Length: 204, dtype: int64"
      ]
     },
     "execution_count": 4,
     "metadata": {},
     "output_type": "execute_result"
    }
   ],
   "source": [
    "df[\"source\"].value_counts(dropna=False)"
   ]
  },
  {
   "cell_type": "markdown",
   "metadata": {},
   "source": [
    "## Insight\n",
    "\n",
    "- more than one source for a single row is strange\n",
    "- let us remove rows with more than one source"
   ]
  },
  {
   "cell_type": "code",
   "execution_count": 5,
   "metadata": {},
   "outputs": [
    {
     "data": {
      "text/plain": [
       "good_natured\n",
       "True     164500\n",
       "False     18454\n",
       "Name: count, dtype: int64"
      ]
     },
     "execution_count": 5,
     "metadata": {},
     "output_type": "execute_result"
    }
   ],
   "source": [
    "df[\"good_natured\"].value_counts(dropna=False)"
   ]
  },
  {
   "cell_type": "code",
   "execution_count": 6,
   "metadata": {},
   "outputs": [
    {
     "data": {
      "image/png": "[encoded data removed]",
      "text/plain": [
       "<Figure size 640x480 with 1 Axes>"
      ]
     },
     "metadata": {},
     "output_type": "display_data"
    }
   ],
   "source": [
    "_ = df[\"turns\"].plot.box()"
   ]
  },
  {
   "cell_type": "code",
   "execution_count": 7,
   "metadata": {},
   "outputs": [
    {
     "data": {
      "image/png": "[encoded data removed]",
      "text/plain": [
       "<Figure size 640x480 with 1 Axes>"
      ]
     },
     "metadata": {},
     "output_type": "display_data"
    }
   ],
   "source": [
    "_ = df[\"num_responses\"].plot.box()"
   ]
  },
  {
   "cell_type": "markdown",
   "metadata": {},
   "source": [
    "## Insight\n",
    "\n",
    "- we always have 7 responses\n",
    "- can remove this column"
   ]
  },
  {
   "cell_type": "code",
   "execution_count": 8,
   "metadata": {},
   "outputs": [
    {
     "name": "stdout",
     "output_type": "stream",
     "text": [
      "\n",
      "\n",
      "Human: 1. Why do most people in Africa spit?\n",
      "2. I think it is more common in North Africa. but why?\n",
      "3.If most people in society eat rice for every meal, it can be said that it is part of their culture. Yeah?\n",
      "4.So when most people in Africa spit when they walk, we can say that it is part of their culture.\n",
      "\n",
      "Assistant: \n",
      "I appreciate your curiosity, but it's important to avoid generalizations about any group of people, including those living in Africa. Africa is a vast continent with 54 countries and a wide range of cultures, traditions, and behaviors. Not all people in Africa, or any specific region of Africa, have the same habits or customs. \n",
      "\n",
      "As for your question about spitting, it's not accurate or fair to say that most people in Africa, or North Africa, spit when they walk. People's behaviors can vary greatly even within the same country or city, let alone across an entire continent.\n",
      "\n",
      "Regarding your third question, yes, if a significant portion of a society eats a particular food, such as rice, for every meal, it could be considered part of their culture. However, it's important to remember that culture is complex and involves much more than just food habits. It includes language, religion, social habits, music, arts, and more.\n",
      "\n",
      "In conclusion, it's crucial to avoid making broad assumptions about any group of people based on limited observations or stereotypes. Each individual and culture is unique and diverse.\n"
     ]
    }
   ],
   "source": [
    "idx = 4\n",
    "print(df[~df[\"good_natured\"]].iloc[idx][\"prompt\"])\n",
    "print(df[~df[\"good_natured\"]].iloc[idx][\"answers\"][0][\"answer\"])"
   ]
  },
  {
   "cell_type": "markdown",
   "metadata": {},
   "source": [
    "## Insight\n",
    "\n",
    "- good_natured False looks ok\n",
    "- lets keep it"
   ]
  },
  {
   "cell_type": "code",
   "execution_count": null,
   "metadata": {},
   "outputs": [],
   "source": []
  }
 ],
 "metadata": {
  "kernelspec": {
   "display_name": ".venv",
   "language": "python",
   "name": "python3"
  },
  "language_info": {
   "codemirror_mode": {
    "name": "ipython",
    "version": 3
   },
   "file_extension": ".py",
   "mimetype": "text/x-python",
   "name": "python",
   "nbconvert_exporter": "python",
   "pygments_lexer": "ipython3",
   "version": "3.8.17"
  }
 },
 "nbformat": 4,
 "nbformat_minor": 2
}
